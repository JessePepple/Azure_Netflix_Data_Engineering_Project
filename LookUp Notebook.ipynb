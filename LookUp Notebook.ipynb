{
 "cells": [
  {
   "cell_type": "markdown",
   "metadata": {
    "application/vnd.databricks.v1+cell": {
     "cellMetadata": {},
     "inputWidgets": {},
     "nuid": "ae5c04f6-70a4-4e17-9d43-bceb2c0e60ac",
     "showTitle": false,
     "tableResultSettingsMap": {},
     "title": ""
    }
   },
   "source": [
    "Array Parameter"
   ]
  },
  {
   "cell_type": "code",
   "execution_count": 0,
   "metadata": {
    "application/vnd.databricks.v1+cell": {
     "cellMetadata": {
      "byteLimit": 2048000,
      "rowLimit": 10000
     },
     "inputWidgets": {},
     "nuid": "c668cefc-e7ac-4d58-bdaa-273952a86827",
     "showTitle": false,
     "tableResultSettingsMap": {},
     "title": ""
    }
   },
   "outputs": [],
   "source": [
    "files = [\n",
    "    {\n",
    "        \"srcfolder\": \"netflix_directors\",\n",
    "        \"src_targetfolder\": \"netflix_directors\"\n",
    "    },\n",
    "    {\n",
    "        \"srcfolder\": \"netflix_cast\",\n",
    "        \"src_targetfolder\": \"netflix_cast\"\n",
    "    },\n",
    "    {\n",
    "        \"srcfolder\": \"netflix_category\",\n",
    "        \"src_targetfolder\": \"netflix_category\"\n",
    "    },\n",
    "    {\n",
    "        \"srcfolder\": \"netflix_countries\",\n",
    "        \"src_targetfolder\": \"netflix_countries\"\n",
    "    },\n",
    "    {\n",
    "        \"srcfolder\": \"netflix_titles\",\n",
    "        \"src_targetfolder\": \"netflix_titles\"\n",
    "    }\n",
    "]\n"
   ]
  },
  {
   "cell_type": "markdown",
   "metadata": {
    "application/vnd.databricks.v1+cell": {
     "cellMetadata": {},
     "inputWidgets": {},
     "nuid": "5fa3e85f-f429-4c07-90a4-ab5628698062",
     "showTitle": false,
     "tableResultSettingsMap": {},
     "title": ""
    }
   },
   "source": [
    "Job Utility to return the Array"
   ]
  },
  {
   "cell_type": "code",
   "execution_count": 0,
   "metadata": {
    "application/vnd.databricks.v1+cell": {
     "cellMetadata": {
      "byteLimit": 2048000,
      "rowLimit": 10000
     },
     "inputWidgets": {},
     "nuid": "79ff2db5-e119-403b-b0f8-3f553ee2fdc8",
     "showTitle": false,
     "tableResultSettingsMap": {},
     "title": ""
    }
   },
   "outputs": [],
   "source": [
    "dbutils.jobs.taskValues.set(key = \"files\", value = files)"
   ]
  }
 ],
 "metadata": {
  "application/vnd.databricks.v1+notebook": {
   "computePreferences": null,
   "dashboards": [],
   "environmentMetadata": {
    "base_environment": "",
    "environment_version": "3"
   },
   "inputWidgetPreferences": null,
   "language": "python",
   "notebookMetadata": {
    "pythonIndentUnit": 4
   },
   "notebookName": "LookUp Notebook",
   "widgets": {}
  },
  "language_info": {
   "name": "python"
  }
 },
 "nbformat": 4,
 "nbformat_minor": 0
}
